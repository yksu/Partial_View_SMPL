{
 "cells": [
  {
   "cell_type": "code",
   "execution_count": 1,
   "metadata": {},
   "outputs": [],
   "source": [
    "### library import\n",
    "from partial_view import Partial_views\n",
    "import torch\n",
    "import os \n",
    "import numpy as np \n",
    "from smplpytorch.pytorch.smpl_layer import SMPL_Layer\n",
    "import time\n",
    "from mapping import vertex_mapping, face_mapping\n",
    "from pytorch3d.structures import Meshes\n",
    "import open3d as o3d\n"
   ]
  },
  {
   "cell_type": "code",
   "execution_count": 2,
   "metadata": {},
   "outputs": [],
   "source": [
    "### data import\n",
    "\n",
    "camera = {\n",
    "\t\t\"H\" :  576,\n",
    "\t\t\"W\" :  640,\n",
    "\t\t\"R\" :  np.array([90,0,90]),\n",
    "\t\t\"T\" :  torch.tensor([[-0.0000, 0.2, 2.7000]]),\n",
    "\t\t\"K\" :  torch.Tensor([502.9671325683594,503.04168701171875,322.229736328125,329.3377685546875]),\n",
    "}\n",
    "\n",
    "# Loading AMASS data\n",
    "dataset = 'ACCAD'\n",
    "seq_lvl_1 = 'Female1General_c3d'\n",
    "seq_lvl_2 = 'A7 - crouch_poses'\n",
    "data_path = os.path.join('data', dataset, seq_lvl_1,seq_lvl_2)\n",
    "\n",
    "d = np.load(data_path + '.npz')\n",
    "relevant_poses = d['poses']\n",
    "\n",
    "d_poses = torch.tensor(d['poses'][:,:72],dtype=torch.float32) \n",
    "\t\n",
    "n_sample = d_poses.shape[0]"
   ]
  },
  {
   "cell_type": "code",
   "execution_count": 3,
   "metadata": {},
   "outputs": [],
   "source": [
    "folder = \"test\"\n",
    "try:\n",
    "\tos.mkdir(folder)\n",
    "except:\n",
    "\tpass"
   ]
  },
  {
   "cell_type": "code",
   "execution_count": 135,
   "metadata": {},
   "outputs": [
    {
     "name": "stdout",
     "output_type": "stream",
     "text": [
      "depth_points shape (12139, 3)\n"
     ]
    }
   ],
   "source": [
    "### In this demo, we only show for one shape\n",
    "pose = d_poses[0].reshape(1,-1)\n",
    "\t\t\n",
    "pv = Partial_views(pose_axisang=pose,betas=None,camera=camera)\n",
    "pv.run(folder,\"image\"+str(1), show2D=False,save2D=False,show3D=False,save3D=False)"
   ]
  },
  {
   "attachments": {},
   "cell_type": "markdown",
   "metadata": {},
   "source": [
    "# Method 1 Vertex mapping"
   ]
  },
  {
   "cell_type": "code",
   "execution_count": 18,
   "metadata": {},
   "outputs": [
    {
     "name": "stdout",
     "output_type": "stream",
     "text": [
      "(6890, 3)\n",
      "(12139, 3)\n",
      "(13776, 3)\n"
     ]
    }
   ],
   "source": [
    "### vertex and face \n",
    "V1 = pv.vertices.numpy().reshape(-1,3)\n",
    "print(V1.shape)\n",
    "V2 = pv.pcd.points\n",
    "V2 = np.asarray(V2)\n",
    "print(V2.shape)\n",
    "F  = pv.ref_faces.numpy().reshape(-1,3)\n",
    "F = np.asarray(F,dtype=int)\n",
    "print(F.shape)"
   ]
  },
  {
   "cell_type": "code",
   "execution_count": 136,
   "metadata": {},
   "outputs": [
    {
     "name": "stdout",
     "output_type": "stream",
     "text": [
      "[1601 1602 1602 1601 1601 1602 1602 1602 1601 1602]\n"
     ]
    }
   ],
   "source": [
    "idx1 = vertex_mapping(V1, V2)\n",
    "print(idx1[:10])\n",
    "pcd = o3d.geometry.PointCloud()\n",
    "### add offset 0.2 to make difference from the original point cloud\n",
    "pcd.points = o3d.utility.Vector3dVector(V1[idx1] + 0.2)"
   ]
  },
  {
   "attachments": {},
   "cell_type": "markdown",
   "metadata": {},
   "source": [
    "## Visualization comparing the original point cloud and the projection point cloud"
   ]
  },
  {
   "cell_type": "code",
   "execution_count": 24,
   "metadata": {},
   "outputs": [
    {
     "name": "stdout",
     "output_type": "stream",
     "text": [
      "\u001b[1;33m[Open3D WARNING] GLFW Error: Cocoa: Failed to find service port for display\u001b[0;m\n"
     ]
    }
   ],
   "source": [
    "o3d.visualization.draw_geometries([pcd,pv.pcd])"
   ]
  },
  {
   "attachments": {},
   "cell_type": "markdown",
   "metadata": {},
   "source": [
    "# Method 2 Face mapping"
   ]
  },
  {
   "cell_type": "code",
   "execution_count": 20,
   "metadata": {},
   "outputs": [],
   "source": [
    "idx2, proj_p = face_mapping(V1,V2,F)"
   ]
  },
  {
   "cell_type": "code",
   "execution_count": 25,
   "metadata": {},
   "outputs": [
    {
     "data": {
      "text/plain": [
       "(12139, 3)"
      ]
     },
     "execution_count": 25,
     "metadata": {},
     "output_type": "execute_result"
    }
   ],
   "source": [
    "proj_p.shape"
   ]
  },
  {
   "cell_type": "code",
   "execution_count": 137,
   "metadata": {},
   "outputs": [],
   "source": [
    "### V_F is the array containing the coordinate for each face\n",
    "V_F = V1[F]\n",
    "\n",
    "### V_F2 is the array containing the coordinate for the face where V2 matched\n",
    "V_F2 = V_F[r]"
   ]
  },
  {
   "cell_type": "code",
   "execution_count": 139,
   "metadata": {},
   "outputs": [],
   "source": [
    "l = proj_p.shape[0]\n",
    "### add offset 0.2 to make difference from the original point cloud\n",
    "### proj is the array for faces recovered from the barycentric coordinate\n",
    "proj = np.asarray( [np.inner (proj_p[i] , V_F2[i].T) for i in range(l)]) + 0.2\n",
    "pcd2 = o3d.geometry.PointCloud()\n",
    "pcd2.points = o3d.utility.Vector3dVector(proj)"
   ]
  },
  {
   "attachments": {},
   "cell_type": "markdown",
   "metadata": {},
   "source": [
    "## Visualization comparing the original point cloud and the projection point cloud"
   ]
  },
  {
   "cell_type": "code",
   "execution_count": 140,
   "metadata": {},
   "outputs": [
    {
     "name": "stdout",
     "output_type": "stream",
     "text": [
      "\u001b[1;33m[Open3D WARNING] GLFW Error: Cocoa: Failed to find service port for display\u001b[0;m\n"
     ]
    }
   ],
   "source": [
    "o3d.visualization.draw_geometries([pcd2,pv.pcd])"
   ]
  }
 ],
 "metadata": {
  "kernelspec": {
   "display_name": "smpl",
   "language": "python",
   "name": "python3"
  },
  "language_info": {
   "codemirror_mode": {
    "name": "ipython",
    "version": 3
   },
   "file_extension": ".py",
   "mimetype": "text/x-python",
   "name": "python",
   "nbconvert_exporter": "python",
   "pygments_lexer": "ipython3",
   "version": "3.9.16"
  },
  "orig_nbformat": 4
 },
 "nbformat": 4,
 "nbformat_minor": 2
}
